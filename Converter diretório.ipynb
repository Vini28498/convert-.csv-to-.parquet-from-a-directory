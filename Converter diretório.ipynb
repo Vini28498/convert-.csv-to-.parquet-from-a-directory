{
 "cells": [
  {
   "cell_type": "code",
   "execution_count": 124,
   "metadata": {},
   "outputs": [],
   "source": [
    "import os "
   ]
  },
  {
   "cell_type": "code",
   "execution_count": 125,
   "metadata": {},
   "outputs": [],
   "source": [
    "diretorio = r\"C:/Users/vinicius.oliveira/Desktop/Teste/\""
   ]
  },
  {
   "cell_type": "code",
   "execution_count": 126,
   "metadata": {},
   "outputs": [],
   "source": [
    "result = [f for f in os.listdir(diretorio) if os.path.isfile(os.path.join(diretorio, f))]"
   ]
  },
  {
   "cell_type": "code",
   "execution_count": 127,
   "metadata": {},
   "outputs": [
    {
     "name": "stdout",
     "output_type": "stream",
     "text": [
      "['Teste1.csv', 'Teste2.csv', 'Teste3.csv']\n"
     ]
    }
   ],
   "source": [
    "print(result)"
   ]
  },
  {
   "cell_type": "code",
   "execution_count": 128,
   "metadata": {},
   "outputs": [],
   "source": [
    "import pandas as pd"
   ]
  },
  {
   "cell_type": "code",
   "execution_count": 129,
   "metadata": {},
   "outputs": [],
   "source": [
    "import pyarrow"
   ]
  },
  {
   "cell_type": "code",
   "execution_count": 130,
   "metadata": {},
   "outputs": [],
   "source": [
    "for arquivo in result:\n",
    "    df = pd.read_csv(diretorio + arquivo, on_bad_lines='skip')\n",
    "    parquet_out = r'C:/Users/vinicius.oliveira/Desktop/Teste/'+ arquivo[:-4] + '.parquet'\n",
    "    output = df.to_parquet(parquet_out, index = False)"
   ]
  }
 ],
 "metadata": {
  "kernelspec": {
   "display_name": "Python 3.10.5 64-bit",
   "language": "python",
   "name": "python3"
  },
  "language_info": {
   "codemirror_mode": {
    "name": "ipython",
    "version": 3
   },
   "file_extension": ".py",
   "mimetype": "text/x-python",
   "name": "python",
   "nbconvert_exporter": "python",
   "pygments_lexer": "ipython3",
   "version": "3.10.5"
  },
  "orig_nbformat": 4,
  "vscode": {
   "interpreter": {
    "hash": "d0abc20ee171da4d53afbfbb0f23c83950b79ec07916067b9b99c3b1ea1545a5"
   }
  }
 },
 "nbformat": 4,
 "nbformat_minor": 2
}
